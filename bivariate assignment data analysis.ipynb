{
 "cells": [
  {
   "cell_type": "code",
   "execution_count": 1,
   "id": "921435dd-8a70-4a26-b643-6302b267c735",
   "metadata": {},
   "outputs": [],
   "source": [
    "import pandas as pd"
   ]
  },
  {
   "cell_type": "code",
   "execution_count": 2,
   "id": "2ae258e6-db7b-4910-93c3-463d73cb9db8",
   "metadata": {},
   "outputs": [
    {
     "data": {
      "text/html": [
       "<div>\n",
       "<style scoped>\n",
       "    .dataframe tbody tr th:only-of-type {\n",
       "        vertical-align: middle;\n",
       "    }\n",
       "\n",
       "    .dataframe tbody tr th {\n",
       "        vertical-align: top;\n",
       "    }\n",
       "\n",
       "    .dataframe thead th {\n",
       "        text-align: right;\n",
       "    }\n",
       "</style>\n",
       "<table border=\"1\" class=\"dataframe\">\n",
       "  <thead>\n",
       "    <tr style=\"text-align: right;\">\n",
       "      <th></th>\n",
       "      <th>sl_no</th>\n",
       "      <th>gender</th>\n",
       "      <th>ssc_p</th>\n",
       "      <th>ssc_b</th>\n",
       "      <th>hsc_p</th>\n",
       "      <th>hsc_b</th>\n",
       "      <th>hsc_s</th>\n",
       "      <th>degree_p</th>\n",
       "      <th>degree_t</th>\n",
       "      <th>workex</th>\n",
       "      <th>etest_p</th>\n",
       "      <th>specialisation</th>\n",
       "      <th>mba_p</th>\n",
       "      <th>status</th>\n",
       "      <th>salary</th>\n",
       "    </tr>\n",
       "  </thead>\n",
       "  <tbody>\n",
       "    <tr>\n",
       "      <th>0</th>\n",
       "      <td>1</td>\n",
       "      <td>M</td>\n",
       "      <td>67.00</td>\n",
       "      <td>Others</td>\n",
       "      <td>91.00</td>\n",
       "      <td>Others</td>\n",
       "      <td>Commerce</td>\n",
       "      <td>58.00</td>\n",
       "      <td>Sci&amp;Tech</td>\n",
       "      <td>No</td>\n",
       "      <td>55.0</td>\n",
       "      <td>Mkt&amp;HR</td>\n",
       "      <td>58.80</td>\n",
       "      <td>Placed</td>\n",
       "      <td>270000.0</td>\n",
       "    </tr>\n",
       "    <tr>\n",
       "      <th>1</th>\n",
       "      <td>2</td>\n",
       "      <td>M</td>\n",
       "      <td>79.33</td>\n",
       "      <td>Central</td>\n",
       "      <td>78.33</td>\n",
       "      <td>Others</td>\n",
       "      <td>Science</td>\n",
       "      <td>77.48</td>\n",
       "      <td>Sci&amp;Tech</td>\n",
       "      <td>Yes</td>\n",
       "      <td>86.5</td>\n",
       "      <td>Mkt&amp;Fin</td>\n",
       "      <td>66.28</td>\n",
       "      <td>Placed</td>\n",
       "      <td>200000.0</td>\n",
       "    </tr>\n",
       "    <tr>\n",
       "      <th>2</th>\n",
       "      <td>3</td>\n",
       "      <td>M</td>\n",
       "      <td>65.00</td>\n",
       "      <td>Central</td>\n",
       "      <td>68.00</td>\n",
       "      <td>Central</td>\n",
       "      <td>Arts</td>\n",
       "      <td>64.00</td>\n",
       "      <td>Comm&amp;Mgmt</td>\n",
       "      <td>No</td>\n",
       "      <td>75.0</td>\n",
       "      <td>Mkt&amp;Fin</td>\n",
       "      <td>57.80</td>\n",
       "      <td>Placed</td>\n",
       "      <td>250000.0</td>\n",
       "    </tr>\n",
       "    <tr>\n",
       "      <th>3</th>\n",
       "      <td>4</td>\n",
       "      <td>M</td>\n",
       "      <td>56.00</td>\n",
       "      <td>Central</td>\n",
       "      <td>52.00</td>\n",
       "      <td>Central</td>\n",
       "      <td>Science</td>\n",
       "      <td>52.00</td>\n",
       "      <td>Sci&amp;Tech</td>\n",
       "      <td>No</td>\n",
       "      <td>66.0</td>\n",
       "      <td>Mkt&amp;HR</td>\n",
       "      <td>59.43</td>\n",
       "      <td>Not Placed</td>\n",
       "      <td>0.0</td>\n",
       "    </tr>\n",
       "    <tr>\n",
       "      <th>4</th>\n",
       "      <td>5</td>\n",
       "      <td>M</td>\n",
       "      <td>85.80</td>\n",
       "      <td>Central</td>\n",
       "      <td>73.60</td>\n",
       "      <td>Central</td>\n",
       "      <td>Commerce</td>\n",
       "      <td>73.30</td>\n",
       "      <td>Comm&amp;Mgmt</td>\n",
       "      <td>No</td>\n",
       "      <td>96.8</td>\n",
       "      <td>Mkt&amp;Fin</td>\n",
       "      <td>55.50</td>\n",
       "      <td>Placed</td>\n",
       "      <td>425000.0</td>\n",
       "    </tr>\n",
       "    <tr>\n",
       "      <th>...</th>\n",
       "      <td>...</td>\n",
       "      <td>...</td>\n",
       "      <td>...</td>\n",
       "      <td>...</td>\n",
       "      <td>...</td>\n",
       "      <td>...</td>\n",
       "      <td>...</td>\n",
       "      <td>...</td>\n",
       "      <td>...</td>\n",
       "      <td>...</td>\n",
       "      <td>...</td>\n",
       "      <td>...</td>\n",
       "      <td>...</td>\n",
       "      <td>...</td>\n",
       "      <td>...</td>\n",
       "    </tr>\n",
       "    <tr>\n",
       "      <th>210</th>\n",
       "      <td>211</td>\n",
       "      <td>M</td>\n",
       "      <td>80.60</td>\n",
       "      <td>Others</td>\n",
       "      <td>82.00</td>\n",
       "      <td>Others</td>\n",
       "      <td>Commerce</td>\n",
       "      <td>77.60</td>\n",
       "      <td>Comm&amp;Mgmt</td>\n",
       "      <td>No</td>\n",
       "      <td>91.0</td>\n",
       "      <td>Mkt&amp;Fin</td>\n",
       "      <td>74.49</td>\n",
       "      <td>Placed</td>\n",
       "      <td>400000.0</td>\n",
       "    </tr>\n",
       "    <tr>\n",
       "      <th>211</th>\n",
       "      <td>212</td>\n",
       "      <td>M</td>\n",
       "      <td>58.00</td>\n",
       "      <td>Others</td>\n",
       "      <td>60.00</td>\n",
       "      <td>Others</td>\n",
       "      <td>Science</td>\n",
       "      <td>72.00</td>\n",
       "      <td>Sci&amp;Tech</td>\n",
       "      <td>No</td>\n",
       "      <td>74.0</td>\n",
       "      <td>Mkt&amp;Fin</td>\n",
       "      <td>53.62</td>\n",
       "      <td>Placed</td>\n",
       "      <td>275000.0</td>\n",
       "    </tr>\n",
       "    <tr>\n",
       "      <th>212</th>\n",
       "      <td>213</td>\n",
       "      <td>M</td>\n",
       "      <td>67.00</td>\n",
       "      <td>Others</td>\n",
       "      <td>67.00</td>\n",
       "      <td>Others</td>\n",
       "      <td>Commerce</td>\n",
       "      <td>73.00</td>\n",
       "      <td>Comm&amp;Mgmt</td>\n",
       "      <td>Yes</td>\n",
       "      <td>59.0</td>\n",
       "      <td>Mkt&amp;Fin</td>\n",
       "      <td>69.72</td>\n",
       "      <td>Placed</td>\n",
       "      <td>295000.0</td>\n",
       "    </tr>\n",
       "    <tr>\n",
       "      <th>213</th>\n",
       "      <td>214</td>\n",
       "      <td>F</td>\n",
       "      <td>74.00</td>\n",
       "      <td>Others</td>\n",
       "      <td>66.00</td>\n",
       "      <td>Others</td>\n",
       "      <td>Commerce</td>\n",
       "      <td>58.00</td>\n",
       "      <td>Comm&amp;Mgmt</td>\n",
       "      <td>No</td>\n",
       "      <td>70.0</td>\n",
       "      <td>Mkt&amp;HR</td>\n",
       "      <td>60.23</td>\n",
       "      <td>Placed</td>\n",
       "      <td>204000.0</td>\n",
       "    </tr>\n",
       "    <tr>\n",
       "      <th>214</th>\n",
       "      <td>215</td>\n",
       "      <td>M</td>\n",
       "      <td>62.00</td>\n",
       "      <td>Central</td>\n",
       "      <td>58.00</td>\n",
       "      <td>Others</td>\n",
       "      <td>Science</td>\n",
       "      <td>53.00</td>\n",
       "      <td>Comm&amp;Mgmt</td>\n",
       "      <td>No</td>\n",
       "      <td>89.0</td>\n",
       "      <td>Mkt&amp;HR</td>\n",
       "      <td>60.22</td>\n",
       "      <td>Not Placed</td>\n",
       "      <td>0.0</td>\n",
       "    </tr>\n",
       "  </tbody>\n",
       "</table>\n",
       "<p>215 rows × 15 columns</p>\n",
       "</div>"
      ],
      "text/plain": [
       "     sl_no gender  ssc_p    ssc_b  hsc_p    hsc_b     hsc_s  degree_p  \\\n",
       "0        1      M  67.00   Others  91.00   Others  Commerce     58.00   \n",
       "1        2      M  79.33  Central  78.33   Others   Science     77.48   \n",
       "2        3      M  65.00  Central  68.00  Central      Arts     64.00   \n",
       "3        4      M  56.00  Central  52.00  Central   Science     52.00   \n",
       "4        5      M  85.80  Central  73.60  Central  Commerce     73.30   \n",
       "..     ...    ...    ...      ...    ...      ...       ...       ...   \n",
       "210    211      M  80.60   Others  82.00   Others  Commerce     77.60   \n",
       "211    212      M  58.00   Others  60.00   Others   Science     72.00   \n",
       "212    213      M  67.00   Others  67.00   Others  Commerce     73.00   \n",
       "213    214      F  74.00   Others  66.00   Others  Commerce     58.00   \n",
       "214    215      M  62.00  Central  58.00   Others   Science     53.00   \n",
       "\n",
       "      degree_t workex  etest_p specialisation  mba_p      status    salary  \n",
       "0     Sci&Tech     No     55.0         Mkt&HR  58.80      Placed  270000.0  \n",
       "1     Sci&Tech    Yes     86.5        Mkt&Fin  66.28      Placed  200000.0  \n",
       "2    Comm&Mgmt     No     75.0        Mkt&Fin  57.80      Placed  250000.0  \n",
       "3     Sci&Tech     No     66.0         Mkt&HR  59.43  Not Placed       0.0  \n",
       "4    Comm&Mgmt     No     96.8        Mkt&Fin  55.50      Placed  425000.0  \n",
       "..         ...    ...      ...            ...    ...         ...       ...  \n",
       "210  Comm&Mgmt     No     91.0        Mkt&Fin  74.49      Placed  400000.0  \n",
       "211   Sci&Tech     No     74.0        Mkt&Fin  53.62      Placed  275000.0  \n",
       "212  Comm&Mgmt    Yes     59.0        Mkt&Fin  69.72      Placed  295000.0  \n",
       "213  Comm&Mgmt     No     70.0         Mkt&HR  60.23      Placed  204000.0  \n",
       "214  Comm&Mgmt     No     89.0         Mkt&HR  60.22  Not Placed       0.0  \n",
       "\n",
       "[215 rows x 15 columns]"
      ]
     },
     "execution_count": 2,
     "metadata": {},
     "output_type": "execute_result"
    }
   ],
   "source": [
    "dataset=pd.read_csv(\"PrePlacement.csv\")\n",
    "dataset"
   ]
  },
  {
   "cell_type": "markdown",
   "id": "9e454495-38fd-4a02-aac2-02b88c1af973",
   "metadata": {},
   "source": [
    "# 1)Replace the NaN values with correct value. And justify why you have chosen the same."
   ]
  },
  {
   "cell_type": "code",
   "execution_count": 3,
   "id": "b176a3a8-a003-4bf8-a322-d3e05ea0befa",
   "metadata": {},
   "outputs": [
    {
     "data": {
      "text/plain": [
       "sl_no             0\n",
       "gender            0\n",
       "ssc_p             0\n",
       "ssc_b             0\n",
       "hsc_p             0\n",
       "hsc_b             0\n",
       "hsc_s             0\n",
       "degree_p          0\n",
       "degree_t          0\n",
       "workex            0\n",
       "etest_p           0\n",
       "specialisation    0\n",
       "mba_p             0\n",
       "status            0\n",
       "salary            0\n",
       "dtype: int64"
      ]
     },
     "execution_count": 3,
     "metadata": {},
     "output_type": "execute_result"
    }
   ],
   "source": [
    "dataset.isnull().sum()"
   ]
  },
  {
   "cell_type": "code",
   "execution_count": 4,
   "id": "570ca5d3-4736-40ea-872d-ca1fc482ee27",
   "metadata": {},
   "outputs": [],
   "source": [
    "#NO NAN VALUE FOR THE DATASET"
   ]
  },
  {
   "cell_type": "markdown",
   "id": "e3e002f5-9e7c-4cdb-9d52-da457a65a742",
   "metadata": {},
   "source": [
    "# 2)How many of them are not placed?"
   ]
  },
  {
   "cell_type": "code",
   "execution_count": 5,
   "id": "a4d9227e-6c33-4dd8-885f-f4405700be19",
   "metadata": {},
   "outputs": [
    {
     "data": {
      "text/plain": [
       "0          Placed\n",
       "1          Placed\n",
       "2          Placed\n",
       "3      Not Placed\n",
       "4          Placed\n",
       "          ...    \n",
       "210        Placed\n",
       "211        Placed\n",
       "212        Placed\n",
       "213        Placed\n",
       "214    Not Placed\n",
       "Name: status, Length: 215, dtype: object"
      ]
     },
     "execution_count": 5,
     "metadata": {},
     "output_type": "execute_result"
    }
   ],
   "source": [
    "dataset['status']"
   ]
  },
  {
   "cell_type": "code",
   "execution_count": 6,
   "id": "94ecc7c7-953b-4335-95e6-e5fa13664239",
   "metadata": {},
   "outputs": [
    {
     "name": "stdout",
     "output_type": "stream",
     "text": [
      "not placed\n"
     ]
    }
   ],
   "source": [
    "if (dataset['status'] == \"Not Placed\").any():\n",
    "    print(\"not placed\")\n",
    "else:\n",
    "    print(\"placed\")\n"
   ]
  },
  {
   "cell_type": "code",
   "execution_count": 7,
   "id": "5021fc23-7c44-489a-afba-9f7017051164",
   "metadata": {},
   "outputs": [
    {
     "name": "stdout",
     "output_type": "stream",
     "text": [
      "Not Placed Count: 67\n",
      "Placed Count: 148\n"
     ]
    }
   ],
   "source": [
    "not_placed_count = (dataset['status'] == \"Not Placed\").sum()\n",
    "placed_count = (dataset['status'] != \"Not Placed\").sum()\n",
    "\n",
    "print(\"Not Placed Count:\", not_placed_count)\n",
    "print(\"Placed Count:\", placed_count)"
   ]
  },
  {
   "cell_type": "code",
   "execution_count": 8,
   "id": "f7c08f79-7165-4f63-b52e-739d9c47c1e9",
   "metadata": {},
   "outputs": [],
   "source": [
    "# This method sums() True value is treated as 1 and False as 0.\n",
    "#not placed student are 67"
   ]
  },
  {
   "cell_type": "markdown",
   "id": "c95b7e8a-c041-4999-9115-6a4918c93a95",
   "metadata": {},
   "source": [
    "# 3)Find the reason for non placement from the dataset?"
   ]
  },
  {
   "cell_type": "code",
   "execution_count": 9,
   "id": "9ffd6ce7-b12d-4beb-b4c6-e00baf05682b",
   "metadata": {},
   "outputs": [],
   "source": [
    "#Human errors during data collection and entry.\n",
    "#Equipment or software breakdowns causing machine errors;\n",
    "#The duration and nature of the study.\n",
    "#Data transfer and conversion."
   ]
  },
  {
   "cell_type": "code",
   "execution_count": 10,
   "id": "e2038df1-fb0c-4502-bfb1-68c1d12b66fe",
   "metadata": {},
   "outputs": [],
   "source": [
    "quan=[]\n",
    "qual=[]\n",
    "for columnName in dataset.columns:\n",
    "    if(dataset[columnName].dtype=='O'):\n",
    "        qual.append(columnName)\n",
    "    else:\n",
    "        quan.append(columnName)"
   ]
  },
  {
   "cell_type": "code",
   "execution_count": 11,
   "id": "3ede5d4e-f513-4770-a163-2771b1d4d761",
   "metadata": {},
   "outputs": [
    {
     "data": {
      "text/html": [
       "<div>\n",
       "<style scoped>\n",
       "    .dataframe tbody tr th:only-of-type {\n",
       "        vertical-align: middle;\n",
       "    }\n",
       "\n",
       "    .dataframe tbody tr th {\n",
       "        vertical-align: top;\n",
       "    }\n",
       "\n",
       "    .dataframe thead th {\n",
       "        text-align: right;\n",
       "    }\n",
       "</style>\n",
       "<table border=\"1\" class=\"dataframe\">\n",
       "  <thead>\n",
       "    <tr style=\"text-align: right;\">\n",
       "      <th></th>\n",
       "      <th>sl_no</th>\n",
       "      <th>ssc_p</th>\n",
       "      <th>hsc_p</th>\n",
       "      <th>degree_p</th>\n",
       "      <th>etest_p</th>\n",
       "      <th>mba_p</th>\n",
       "      <th>salary</th>\n",
       "    </tr>\n",
       "  </thead>\n",
       "  <tbody>\n",
       "    <tr>\n",
       "      <th>0</th>\n",
       "      <td>1</td>\n",
       "      <td>67.00</td>\n",
       "      <td>91.00</td>\n",
       "      <td>58.00</td>\n",
       "      <td>55.0</td>\n",
       "      <td>58.80</td>\n",
       "      <td>270000.0</td>\n",
       "    </tr>\n",
       "    <tr>\n",
       "      <th>1</th>\n",
       "      <td>2</td>\n",
       "      <td>79.33</td>\n",
       "      <td>78.33</td>\n",
       "      <td>77.48</td>\n",
       "      <td>86.5</td>\n",
       "      <td>66.28</td>\n",
       "      <td>200000.0</td>\n",
       "    </tr>\n",
       "    <tr>\n",
       "      <th>2</th>\n",
       "      <td>3</td>\n",
       "      <td>65.00</td>\n",
       "      <td>68.00</td>\n",
       "      <td>64.00</td>\n",
       "      <td>75.0</td>\n",
       "      <td>57.80</td>\n",
       "      <td>250000.0</td>\n",
       "    </tr>\n",
       "    <tr>\n",
       "      <th>3</th>\n",
       "      <td>4</td>\n",
       "      <td>56.00</td>\n",
       "      <td>52.00</td>\n",
       "      <td>52.00</td>\n",
       "      <td>66.0</td>\n",
       "      <td>59.43</td>\n",
       "      <td>0.0</td>\n",
       "    </tr>\n",
       "    <tr>\n",
       "      <th>4</th>\n",
       "      <td>5</td>\n",
       "      <td>85.80</td>\n",
       "      <td>73.60</td>\n",
       "      <td>73.30</td>\n",
       "      <td>96.8</td>\n",
       "      <td>55.50</td>\n",
       "      <td>425000.0</td>\n",
       "    </tr>\n",
       "    <tr>\n",
       "      <th>...</th>\n",
       "      <td>...</td>\n",
       "      <td>...</td>\n",
       "      <td>...</td>\n",
       "      <td>...</td>\n",
       "      <td>...</td>\n",
       "      <td>...</td>\n",
       "      <td>...</td>\n",
       "    </tr>\n",
       "    <tr>\n",
       "      <th>210</th>\n",
       "      <td>211</td>\n",
       "      <td>80.60</td>\n",
       "      <td>82.00</td>\n",
       "      <td>77.60</td>\n",
       "      <td>91.0</td>\n",
       "      <td>74.49</td>\n",
       "      <td>400000.0</td>\n",
       "    </tr>\n",
       "    <tr>\n",
       "      <th>211</th>\n",
       "      <td>212</td>\n",
       "      <td>58.00</td>\n",
       "      <td>60.00</td>\n",
       "      <td>72.00</td>\n",
       "      <td>74.0</td>\n",
       "      <td>53.62</td>\n",
       "      <td>275000.0</td>\n",
       "    </tr>\n",
       "    <tr>\n",
       "      <th>212</th>\n",
       "      <td>213</td>\n",
       "      <td>67.00</td>\n",
       "      <td>67.00</td>\n",
       "      <td>73.00</td>\n",
       "      <td>59.0</td>\n",
       "      <td>69.72</td>\n",
       "      <td>295000.0</td>\n",
       "    </tr>\n",
       "    <tr>\n",
       "      <th>213</th>\n",
       "      <td>214</td>\n",
       "      <td>74.00</td>\n",
       "      <td>66.00</td>\n",
       "      <td>58.00</td>\n",
       "      <td>70.0</td>\n",
       "      <td>60.23</td>\n",
       "      <td>204000.0</td>\n",
       "    </tr>\n",
       "    <tr>\n",
       "      <th>214</th>\n",
       "      <td>215</td>\n",
       "      <td>62.00</td>\n",
       "      <td>58.00</td>\n",
       "      <td>53.00</td>\n",
       "      <td>89.0</td>\n",
       "      <td>60.22</td>\n",
       "      <td>0.0</td>\n",
       "    </tr>\n",
       "  </tbody>\n",
       "</table>\n",
       "<p>215 rows × 7 columns</p>\n",
       "</div>"
      ],
      "text/plain": [
       "     sl_no  ssc_p  hsc_p  degree_p  etest_p  mba_p    salary\n",
       "0        1  67.00  91.00     58.00     55.0  58.80  270000.0\n",
       "1        2  79.33  78.33     77.48     86.5  66.28  200000.0\n",
       "2        3  65.00  68.00     64.00     75.0  57.80  250000.0\n",
       "3        4  56.00  52.00     52.00     66.0  59.43       0.0\n",
       "4        5  85.80  73.60     73.30     96.8  55.50  425000.0\n",
       "..     ...    ...    ...       ...      ...    ...       ...\n",
       "210    211  80.60  82.00     77.60     91.0  74.49  400000.0\n",
       "211    212  58.00  60.00     72.00     74.0  53.62  275000.0\n",
       "212    213  67.00  67.00     73.00     59.0  69.72  295000.0\n",
       "213    214  74.00  66.00     58.00     70.0  60.23  204000.0\n",
       "214    215  62.00  58.00     53.00     89.0  60.22       0.0\n",
       "\n",
       "[215 rows x 7 columns]"
      ]
     },
     "execution_count": 11,
     "metadata": {},
     "output_type": "execute_result"
    }
   ],
   "source": [
    "dataset[quan]"
   ]
  },
  {
   "cell_type": "code",
   "execution_count": 12,
   "id": "8cb8da3b-da82-4837-9540-30421a65d757",
   "metadata": {},
   "outputs": [
    {
     "data": {
      "text/plain": [
       "['gender',\n",
       " 'ssc_b',\n",
       " 'hsc_b',\n",
       " 'hsc_s',\n",
       " 'degree_t',\n",
       " 'workex',\n",
       " 'specialisation',\n",
       " 'status']"
      ]
     },
     "execution_count": 12,
     "metadata": {},
     "output_type": "execute_result"
    }
   ],
   "source": [
    "qual"
   ]
  },
  {
   "cell_type": "code",
   "execution_count": 13,
   "id": "62030afa-91f9-4fe0-803b-c58c56ca80c3",
   "metadata": {},
   "outputs": [
    {
     "data": {
      "text/html": [
       "<div>\n",
       "<style scoped>\n",
       "    .dataframe tbody tr th:only-of-type {\n",
       "        vertical-align: middle;\n",
       "    }\n",
       "\n",
       "    .dataframe tbody tr th {\n",
       "        vertical-align: top;\n",
       "    }\n",
       "\n",
       "    .dataframe thead th {\n",
       "        text-align: right;\n",
       "    }\n",
       "</style>\n",
       "<table border=\"1\" class=\"dataframe\">\n",
       "  <thead>\n",
       "    <tr style=\"text-align: right;\">\n",
       "      <th></th>\n",
       "      <th>status</th>\n",
       "      <th>ssc_p</th>\n",
       "      <th>hsc_p</th>\n",
       "      <th>degree_p</th>\n",
       "      <th>etest_p</th>\n",
       "      <th>mba_p</th>\n",
       "      <th>salary</th>\n",
       "    </tr>\n",
       "  </thead>\n",
       "  <tbody>\n",
       "    <tr>\n",
       "      <th>0</th>\n",
       "      <td>Placed</td>\n",
       "      <td>67.00</td>\n",
       "      <td>91.00</td>\n",
       "      <td>58.00</td>\n",
       "      <td>55.0</td>\n",
       "      <td>58.80</td>\n",
       "      <td>270000.0</td>\n",
       "    </tr>\n",
       "    <tr>\n",
       "      <th>1</th>\n",
       "      <td>Placed</td>\n",
       "      <td>79.33</td>\n",
       "      <td>78.33</td>\n",
       "      <td>77.48</td>\n",
       "      <td>86.5</td>\n",
       "      <td>66.28</td>\n",
       "      <td>200000.0</td>\n",
       "    </tr>\n",
       "    <tr>\n",
       "      <th>2</th>\n",
       "      <td>Placed</td>\n",
       "      <td>65.00</td>\n",
       "      <td>68.00</td>\n",
       "      <td>64.00</td>\n",
       "      <td>75.0</td>\n",
       "      <td>57.80</td>\n",
       "      <td>250000.0</td>\n",
       "    </tr>\n",
       "    <tr>\n",
       "      <th>3</th>\n",
       "      <td>Not Placed</td>\n",
       "      <td>56.00</td>\n",
       "      <td>52.00</td>\n",
       "      <td>52.00</td>\n",
       "      <td>66.0</td>\n",
       "      <td>59.43</td>\n",
       "      <td>0.0</td>\n",
       "    </tr>\n",
       "    <tr>\n",
       "      <th>4</th>\n",
       "      <td>Placed</td>\n",
       "      <td>85.80</td>\n",
       "      <td>73.60</td>\n",
       "      <td>73.30</td>\n",
       "      <td>96.8</td>\n",
       "      <td>55.50</td>\n",
       "      <td>425000.0</td>\n",
       "    </tr>\n",
       "    <tr>\n",
       "      <th>...</th>\n",
       "      <td>...</td>\n",
       "      <td>...</td>\n",
       "      <td>...</td>\n",
       "      <td>...</td>\n",
       "      <td>...</td>\n",
       "      <td>...</td>\n",
       "      <td>...</td>\n",
       "    </tr>\n",
       "    <tr>\n",
       "      <th>210</th>\n",
       "      <td>Placed</td>\n",
       "      <td>80.60</td>\n",
       "      <td>82.00</td>\n",
       "      <td>77.60</td>\n",
       "      <td>91.0</td>\n",
       "      <td>74.49</td>\n",
       "      <td>400000.0</td>\n",
       "    </tr>\n",
       "    <tr>\n",
       "      <th>211</th>\n",
       "      <td>Placed</td>\n",
       "      <td>58.00</td>\n",
       "      <td>60.00</td>\n",
       "      <td>72.00</td>\n",
       "      <td>74.0</td>\n",
       "      <td>53.62</td>\n",
       "      <td>275000.0</td>\n",
       "    </tr>\n",
       "    <tr>\n",
       "      <th>212</th>\n",
       "      <td>Placed</td>\n",
       "      <td>67.00</td>\n",
       "      <td>67.00</td>\n",
       "      <td>73.00</td>\n",
       "      <td>59.0</td>\n",
       "      <td>69.72</td>\n",
       "      <td>295000.0</td>\n",
       "    </tr>\n",
       "    <tr>\n",
       "      <th>213</th>\n",
       "      <td>Placed</td>\n",
       "      <td>74.00</td>\n",
       "      <td>66.00</td>\n",
       "      <td>58.00</td>\n",
       "      <td>70.0</td>\n",
       "      <td>60.23</td>\n",
       "      <td>204000.0</td>\n",
       "    </tr>\n",
       "    <tr>\n",
       "      <th>214</th>\n",
       "      <td>Not Placed</td>\n",
       "      <td>62.00</td>\n",
       "      <td>58.00</td>\n",
       "      <td>53.00</td>\n",
       "      <td>89.0</td>\n",
       "      <td>60.22</td>\n",
       "      <td>0.0</td>\n",
       "    </tr>\n",
       "  </tbody>\n",
       "</table>\n",
       "<p>215 rows × 7 columns</p>\n",
       "</div>"
      ],
      "text/plain": [
       "         status  ssc_p  hsc_p  degree_p  etest_p  mba_p    salary\n",
       "0        Placed  67.00  91.00     58.00     55.0  58.80  270000.0\n",
       "1        Placed  79.33  78.33     77.48     86.5  66.28  200000.0\n",
       "2        Placed  65.00  68.00     64.00     75.0  57.80  250000.0\n",
       "3    Not Placed  56.00  52.00     52.00     66.0  59.43       0.0\n",
       "4        Placed  85.80  73.60     73.30     96.8  55.50  425000.0\n",
       "..          ...    ...    ...       ...      ...    ...       ...\n",
       "210      Placed  80.60  82.00     77.60     91.0  74.49  400000.0\n",
       "211      Placed  58.00  60.00     72.00     74.0  53.62  275000.0\n",
       "212      Placed  67.00  67.00     73.00     59.0  69.72  295000.0\n",
       "213      Placed  74.00  66.00     58.00     70.0  60.23  204000.0\n",
       "214  Not Placed  62.00  58.00     53.00     89.0  60.22       0.0\n",
       "\n",
       "[215 rows x 7 columns]"
      ]
     },
     "execution_count": 13,
     "metadata": {},
     "output_type": "execute_result"
    }
   ],
   "source": [
    "\n",
    "descriptive = pd.DataFrame(index=[\"Mean\", \"Median\", \"Mode\"], columns=quan)\n",
    "\n",
    "for columnName in quan:\n",
    "    descriptive.loc[\"Mean\", columnName] = dataset[columnName].mean()\n",
    "    descriptive.loc[\"Median\", columnName] = dataset[columnName].median()  # Add median calculation\n",
    "    descriptive.loc[\"Mode\", columnName] = dataset[columnName].mode().iloc[0]\n",
    "    data = {'status': dataset['status'],\n",
    "        'ssc_p':dataset['ssc_p'],\n",
    "        'hsc_p':dataset['hsc_p'],\n",
    "        'degree_p':dataset['degree_p'],\n",
    "        'etest_p':dataset['etest_p'],\n",
    "        'mba_p':dataset['mba_p'],\n",
    "        'salary':dataset['salary']}\n",
    "\n",
    "df = pd.DataFrame(data)\n",
    "df\n"
   ]
  },
  {
   "cell_type": "code",
   "execution_count": 14,
   "id": "6395a7ce-31eb-4e9f-bec3-63f9bbef588f",
   "metadata": {},
   "outputs": [
    {
     "name": "stdout",
     "output_type": "stream",
     "text": [
      "                              Mean      Median       Mode\n",
      "Placed     ssc_p         71.721486      72.500      73.00\n",
      "           hsc_p         69.837027      68.000      63.00\n",
      "           degree_p      68.723649      68.000      65.00\n",
      "           etest_p       73.238041      72.000      60.00\n",
      "           mba_p         62.579392      62.245      56.70\n",
      "           salary    287076.013514  265000.000  300000.00\n",
      "Not Placed ssc_p         57.544030      56.280      52.00\n",
      "           hsc_p         58.598358      60.330      42.75\n",
      "           degree_p      61.134179      61.000      65.00\n",
      "           etest_p       69.587910      67.000      60.00\n",
      "           mba_p         61.612836      60.690      51.21\n",
      "           salary         0.000000       0.000       0.00\n"
     ]
    }
   ],
   "source": [
    "import pandas as pd\n",
    "def analyze_placement_stats(dataset, status_column, numeric_columns):\n",
    "  \n",
    "    placed_students = dataset[dataset[status_column] != \"Not Placed\"]\n",
    "    non_placed_students = dataset[dataset[status_column] == \"Not Placed\"]\n",
    "\n",
    "    # Calculate descriptive statistics for each group\n",
    "    stats = {}\n",
    "    for group_name, group_data in [(\"Placed\", placed_students), (\"Not Placed\", non_placed_students)]:\n",
    "        stats[group_name] = {}\n",
    "        for col in numeric_columns:\n",
    "            stats[group_name][col] = {\n",
    "                \"Mean\": group_data[col].mean(),\n",
    "                \"Median\": group_data[col].median(),\n",
    "                \"Mode\": group_data[col].mode().iloc[0] if not group_data[col].mode().empty else None\n",
    "            }\n",
    "\n",
    "    # Convert to DataFrame for better display\n",
    "    stats_df = pd.DataFrame(stats).T.stack().apply(pd.Series)\n",
    "   \n",
    "\n",
    "    return stats_df\n",
    "\n",
    "\n",
    "\n",
    "\n",
    "data = {'status': dataset['status'],\n",
    "        'ssc_p':dataset['ssc_p'],\n",
    "        'hsc_p':dataset['hsc_p'],\n",
    "        'degree_p':dataset['degree_p'],\n",
    "        'etest_p':dataset['etest_p'],\n",
    "        'mba_p':dataset['mba_p'],\n",
    "        'salary':dataset['salary']}\n",
    "df = pd.DataFrame(data)  # Create DataFrame with all the data\n",
    "\n",
    "numeric_columns = ['ssc_p','hsc_p','degree_p','etest_p','mba_p','salary']  # List of numeric columns\n",
    "\n",
    "result = analyze_placement_stats(df, 'status', numeric_columns)\n",
    "print(result)"
   ]
  },
  {
   "cell_type": "code",
   "execution_count": 15,
   "id": "74dbd86f-76ba-4bf2-8105-3d3c72972c57",
   "metadata": {},
   "outputs": [],
   "source": [
    "#Observation: Significant difference. The \"Placed\" group shows a considerably higher performance .\n",
    "                                    #the \"not placed\" group shows a considerably lower performance."
   ]
  },
  {
   "cell_type": "markdown",
   "id": "1293b441-926e-479d-a310-394803765176",
   "metadata": {},
   "source": [
    "4)What kind of relation between salary and mba_p"
   ]
  },
  {
   "cell_type": "code",
   "execution_count": 16,
   "id": "169a14e8-5388-4c37-90df-ab39fa7610a1",
   "metadata": {},
   "outputs": [],
   "source": [
    "#using an correlation concept"
   ]
  },
  {
   "cell_type": "code",
   "execution_count": 17,
   "id": "1ba6afe8-9227-493d-9ccd-483550d874d2",
   "metadata": {},
   "outputs": [
    {
     "data": {
      "text/html": [
       "<div>\n",
       "<style scoped>\n",
       "    .dataframe tbody tr th:only-of-type {\n",
       "        vertical-align: middle;\n",
       "    }\n",
       "\n",
       "    .dataframe tbody tr th {\n",
       "        vertical-align: top;\n",
       "    }\n",
       "\n",
       "    .dataframe thead th {\n",
       "        text-align: right;\n",
       "    }\n",
       "</style>\n",
       "<table border=\"1\" class=\"dataframe\">\n",
       "  <thead>\n",
       "    <tr style=\"text-align: right;\">\n",
       "      <th></th>\n",
       "      <th>sl_no</th>\n",
       "      <th>ssc_p</th>\n",
       "      <th>hsc_p</th>\n",
       "      <th>degree_p</th>\n",
       "      <th>etest_p</th>\n",
       "      <th>mba_p</th>\n",
       "      <th>salary</th>\n",
       "    </tr>\n",
       "  </thead>\n",
       "  <tbody>\n",
       "    <tr>\n",
       "      <th>sl_no</th>\n",
       "      <td>1.000000</td>\n",
       "      <td>-0.078155</td>\n",
       "      <td>-0.090500</td>\n",
       "      <td>-0.091039</td>\n",
       "      <td>0.063636</td>\n",
       "      <td>0.022327</td>\n",
       "      <td>0.001217</td>\n",
       "    </tr>\n",
       "    <tr>\n",
       "      <th>ssc_p</th>\n",
       "      <td>-0.078155</td>\n",
       "      <td>1.000000</td>\n",
       "      <td>0.513478</td>\n",
       "      <td>0.538686</td>\n",
       "      <td>0.261993</td>\n",
       "      <td>0.388478</td>\n",
       "      <td>0.558475</td>\n",
       "    </tr>\n",
       "    <tr>\n",
       "      <th>hsc_p</th>\n",
       "      <td>-0.090500</td>\n",
       "      <td>0.513478</td>\n",
       "      <td>1.000000</td>\n",
       "      <td>0.434606</td>\n",
       "      <td>0.240775</td>\n",
       "      <td>0.348452</td>\n",
       "      <td>0.459424</td>\n",
       "    </tr>\n",
       "    <tr>\n",
       "      <th>degree_p</th>\n",
       "      <td>-0.091039</td>\n",
       "      <td>0.538686</td>\n",
       "      <td>0.434606</td>\n",
       "      <td>1.000000</td>\n",
       "      <td>0.227147</td>\n",
       "      <td>0.402376</td>\n",
       "      <td>0.423762</td>\n",
       "    </tr>\n",
       "    <tr>\n",
       "      <th>etest_p</th>\n",
       "      <td>0.063636</td>\n",
       "      <td>0.261993</td>\n",
       "      <td>0.240775</td>\n",
       "      <td>0.227147</td>\n",
       "      <td>1.000000</td>\n",
       "      <td>0.218055</td>\n",
       "      <td>0.186775</td>\n",
       "    </tr>\n",
       "    <tr>\n",
       "      <th>mba_p</th>\n",
       "      <td>0.022327</td>\n",
       "      <td>0.388478</td>\n",
       "      <td>0.348452</td>\n",
       "      <td>0.402376</td>\n",
       "      <td>0.218055</td>\n",
       "      <td>1.000000</td>\n",
       "      <td>0.141417</td>\n",
       "    </tr>\n",
       "    <tr>\n",
       "      <th>salary</th>\n",
       "      <td>0.001217</td>\n",
       "      <td>0.558475</td>\n",
       "      <td>0.459424</td>\n",
       "      <td>0.423762</td>\n",
       "      <td>0.186775</td>\n",
       "      <td>0.141417</td>\n",
       "      <td>1.000000</td>\n",
       "    </tr>\n",
       "  </tbody>\n",
       "</table>\n",
       "</div>"
      ],
      "text/plain": [
       "             sl_no     ssc_p     hsc_p  degree_p   etest_p     mba_p    salary\n",
       "sl_no     1.000000 -0.078155 -0.090500 -0.091039  0.063636  0.022327  0.001217\n",
       "ssc_p    -0.078155  1.000000  0.513478  0.538686  0.261993  0.388478  0.558475\n",
       "hsc_p    -0.090500  0.513478  1.000000  0.434606  0.240775  0.348452  0.459424\n",
       "degree_p -0.091039  0.538686  0.434606  1.000000  0.227147  0.402376  0.423762\n",
       "etest_p   0.063636  0.261993  0.240775  0.227147  1.000000  0.218055  0.186775\n",
       "mba_p     0.022327  0.388478  0.348452  0.402376  0.218055  1.000000  0.141417\n",
       "salary    0.001217  0.558475  0.459424  0.423762  0.186775  0.141417  1.000000"
      ]
     },
     "execution_count": 17,
     "metadata": {},
     "output_type": "execute_result"
    }
   ],
   "source": [
    "numeric_data = dataset.select_dtypes(include='number')\n",
    "covariance_matrix = numeric_data.corr()\n",
    "covariance_matrix"
   ]
  },
  {
   "cell_type": "code",
   "execution_count": 18,
   "id": "4cb11f16-e30c-4bf6-a5d8-a59dbe34237b",
   "metadata": {},
   "outputs": [],
   "source": [
    "#the relation between salary and mba_p\n",
    "##mba_p to salary positive correlation directly proportional relation 14%"
   ]
  },
  {
   "cell_type": "markdown",
   "id": "5fdacea9-4874-49f0-9ed5-90dc30874e07",
   "metadata": {},
   "source": [
    "5)Which specialization is getting minimum salary?"
   ]
  },
  {
   "cell_type": "code",
   "execution_count": 19,
   "id": "8a87de24-59c8-4b23-839a-63bcae51540d",
   "metadata": {},
   "outputs": [
    {
     "data": {
      "text/html": [
       "<div>\n",
       "<style scoped>\n",
       "    .dataframe tbody tr th:only-of-type {\n",
       "        vertical-align: middle;\n",
       "    }\n",
       "\n",
       "    .dataframe tbody tr th {\n",
       "        vertical-align: top;\n",
       "    }\n",
       "\n",
       "    .dataframe thead th {\n",
       "        text-align: right;\n",
       "    }\n",
       "</style>\n",
       "<table border=\"1\" class=\"dataframe\">\n",
       "  <thead>\n",
       "    <tr style=\"text-align: right;\">\n",
       "      <th></th>\n",
       "      <th>specialisation</th>\n",
       "      <th>salary</th>\n",
       "    </tr>\n",
       "  </thead>\n",
       "  <tbody>\n",
       "    <tr>\n",
       "      <th>0</th>\n",
       "      <td>Mkt&amp;HR</td>\n",
       "      <td>270000.0</td>\n",
       "    </tr>\n",
       "    <tr>\n",
       "      <th>1</th>\n",
       "      <td>Mkt&amp;Fin</td>\n",
       "      <td>200000.0</td>\n",
       "    </tr>\n",
       "    <tr>\n",
       "      <th>2</th>\n",
       "      <td>Mkt&amp;Fin</td>\n",
       "      <td>250000.0</td>\n",
       "    </tr>\n",
       "    <tr>\n",
       "      <th>3</th>\n",
       "      <td>Mkt&amp;HR</td>\n",
       "      <td>0.0</td>\n",
       "    </tr>\n",
       "    <tr>\n",
       "      <th>4</th>\n",
       "      <td>Mkt&amp;Fin</td>\n",
       "      <td>425000.0</td>\n",
       "    </tr>\n",
       "    <tr>\n",
       "      <th>...</th>\n",
       "      <td>...</td>\n",
       "      <td>...</td>\n",
       "    </tr>\n",
       "    <tr>\n",
       "      <th>210</th>\n",
       "      <td>Mkt&amp;Fin</td>\n",
       "      <td>400000.0</td>\n",
       "    </tr>\n",
       "    <tr>\n",
       "      <th>211</th>\n",
       "      <td>Mkt&amp;Fin</td>\n",
       "      <td>275000.0</td>\n",
       "    </tr>\n",
       "    <tr>\n",
       "      <th>212</th>\n",
       "      <td>Mkt&amp;Fin</td>\n",
       "      <td>295000.0</td>\n",
       "    </tr>\n",
       "    <tr>\n",
       "      <th>213</th>\n",
       "      <td>Mkt&amp;HR</td>\n",
       "      <td>204000.0</td>\n",
       "    </tr>\n",
       "    <tr>\n",
       "      <th>214</th>\n",
       "      <td>Mkt&amp;HR</td>\n",
       "      <td>0.0</td>\n",
       "    </tr>\n",
       "  </tbody>\n",
       "</table>\n",
       "<p>215 rows × 2 columns</p>\n",
       "</div>"
      ],
      "text/plain": [
       "    specialisation    salary\n",
       "0           Mkt&HR  270000.0\n",
       "1          Mkt&Fin  200000.0\n",
       "2          Mkt&Fin  250000.0\n",
       "3           Mkt&HR       0.0\n",
       "4          Mkt&Fin  425000.0\n",
       "..             ...       ...\n",
       "210        Mkt&Fin  400000.0\n",
       "211        Mkt&Fin  275000.0\n",
       "212        Mkt&Fin  295000.0\n",
       "213         Mkt&HR  204000.0\n",
       "214         Mkt&HR       0.0\n",
       "\n",
       "[215 rows x 2 columns]"
      ]
     },
     "execution_count": 19,
     "metadata": {},
     "output_type": "execute_result"
    }
   ],
   "source": [
    "dataset[[\"specialisation\",\"salary\"]]\n"
   ]
  },
  {
   "cell_type": "code",
   "execution_count": 20,
   "id": "ad408913-d254-4eb9-af78-d83c15581f45",
   "metadata": {},
   "outputs": [
    {
     "name": "stdout",
     "output_type": "stream",
     "text": [
      "Maximum Salary: 706250.0\n",
      "Minimum Salary: 0.0\n",
      "Average Salary: 197615.11627906977\n"
     ]
    }
   ],
   "source": [
    "selected_data = dataset[[\"specialisation\", \"salary\"]]\n",
    "\n",
    "# Calculate the maximum salary\n",
    "max_salary = selected_data['salary'].max()\n",
    "\n",
    "# Calculate the minimum salary\n",
    "min_salary = selected_data['salary'].min()\n",
    "\n",
    "# Calculate the average salary\n",
    "avg_salary = selected_data['salary'].mean() \n",
    "\n",
    "# Print the results\n",
    "print(\"Maximum Salary:\", max_salary)\n",
    "print(\"Minimum Salary:\", min_salary)\n",
    "print(\"Average Salary:\", avg_salary)\n",
    "\n",
    "\n",
    "\n"
   ]
  },
  {
   "cell_type": "code",
   "execution_count": 21,
   "id": "830a157f-be40-4d09-af1b-04674035d109",
   "metadata": {},
   "outputs": [],
   "source": [
    "#geting maximum salry=706250.0\n",
    "#minimum salary=0.0\n",
    "#average salary=197615.11627906977"
   ]
  },
  {
   "cell_type": "markdown",
   "id": "b20e938e-2eb4-42ee-901d-24b0e2f44585",
   "metadata": {},
   "source": [
    "6)How many of them getting above 500000 salary?"
   ]
  },
  {
   "cell_type": "code",
   "execution_count": 22,
   "id": "df909245-9a24-4bb6-8a72-4ee66a47826e",
   "metadata": {},
   "outputs": [
    {
     "name": "stdout",
     "output_type": "stream",
     "text": [
      "There are 3 salaries above 500000\n"
     ]
    }
   ],
   "source": [
    "#  Count how many salaries are above 500000\n",
    "above_50000_count = (selected_data['salary'] > 500000).sum()\n",
    "\n",
    "if above_50000_count > 0:\n",
    "    print(\"There are\", above_50000_count, \"salaries above 500000\")\n",
    "else:\n",
    "    print(\"No salaries are above 500000\")"
   ]
  },
  {
   "cell_type": "markdown",
   "id": "22a1420c-b083-4625-ab16-bd5718197f4b",
   "metadata": {},
   "source": [
    "7)Test the Analysis of Variance between etest_p and mba_p at signifance\n",
    " level 5%.(Make decision using Hypothesis Testing)"
   ]
  },
  {
   "cell_type": "code",
   "execution_count": 23,
   "id": "223d0a1d-f3cc-42d6-86c6-690615c3faf2",
   "metadata": {},
   "outputs": [
    {
     "data": {
      "text/plain": [
       "F_onewayResult(statistic=98.64487057324706, pvalue=4.672547689133573e-21)"
      ]
     },
     "execution_count": 23,
     "metadata": {},
     "output_type": "execute_result"
    }
   ],
   "source": [
    "import scipy.stats as stats\n",
    "stats.f_oneway(dataset['etest_p'],dataset['mba_p'])"
   ]
  },
  {
   "cell_type": "markdown",
   "id": "e4279d52-c036-420f-9953-969023579742",
   "metadata": {},
   "source": [
    " 8)Test the similarity between the degree_t(Sci&Tech) and specialisa\n",
    "tion(Mkt&HR) with respect to salary at significance level of 5%.(Make\n",
    " decision using Hypothesis Testing)"
   ]
  },
  {
   "cell_type": "code",
   "execution_count": 24,
   "id": "a137e912-c8ac-4232-a39c-8fd24e585929",
   "metadata": {},
   "outputs": [],
   "source": [
    "#using an T-test concept"
   ]
  },
  {
   "cell_type": "code",
   "execution_count": 25,
   "id": "a59ad0a3-c8da-4bdc-87c5-c45d43aed40b",
   "metadata": {},
   "outputs": [
    {
     "data": {
      "text/plain": [
       "TtestResult(statistic=2.692041243555374, pvalue=0.007897969943471179, df=152.0)"
      ]
     },
     "execution_count": 25,
     "metadata": {},
     "output_type": "execute_result"
    }
   ],
   "source": [
    "from scipy.stats import ttest_ind\n",
    "dataset=dataset.dropna()\n",
    "sci_tech=dataset[dataset['degree_t']=='Sci&Tech']['salary']\n",
    "mkt_hr=dataset[dataset['specialisation']=='Mkt&HR']['salary']\n",
    "ttest_ind(sci_tech,mkt_hr)"
   ]
  },
  {
   "cell_type": "markdown",
   "id": "79bd512a-58b1-4fa5-98be-1a20b580f497",
   "metadata": {},
   "source": [
    " 9)Convert the normal distribution to standard normal distribution for\n",
    " salary column"
   ]
  },
  {
   "cell_type": "code",
   "execution_count": 26,
   "id": "52442f19-aaf5-49cc-ba8f-e3b865131f2d",
   "metadata": {},
   "outputs": [],
   "source": [
    "import seaborn as sns"
   ]
  },
  {
   "cell_type": "code",
   "execution_count": 27,
   "id": "0a631abe-bb29-45eb-8ab4-3e658e27e962",
   "metadata": {},
   "outputs": [
    {
     "name": "stderr",
     "output_type": "stream",
     "text": [
      "C:\\Users\\tiruk\\AppData\\Local\\Temp\\ipykernel_20696\\2049611699.py:1: UserWarning: \n",
      "\n",
      "`distplot` is a deprecated function and will be removed in seaborn v0.14.0.\n",
      "\n",
      "Please adapt your code to use either `displot` (a figure-level function with\n",
      "similar flexibility) or `histplot` (an axes-level function for histograms).\n",
      "\n",
      "For a guide to updating your code to use the new functions, please see\n",
      "https://gist.github.com/mwaskom/de44147ed2974457ad6372750bbe5751\n",
      "\n",
      "  sns.distplot(dataset[\"salary\"])\n"
     ]
    },
    {
     "data": {
      "text/plain": [
       "<Axes: xlabel='salary', ylabel='Density'>"
      ]
     },
     "execution_count": 27,
     "metadata": {},
     "output_type": "execute_result"
    },
    {
     "data": {
      "image/png": "[encoded data removed]",
      "text/plain": [
       "<Figure size 640x480 with 1 Axes>"
      ]
     },
     "metadata": {},
     "output_type": "display_data"
    }
   ],
   "source": [
    "sns.distplot(dataset[\"salary\"])"
   ]
  },
  {
   "cell_type": "code",
   "execution_count": 28,
   "id": "c978f00f-d971-4644-ab9d-49d1a51c90ef",
   "metadata": {},
   "outputs": [],
   "source": [
    "def stdNBgraph(ds):\n",
    "    # converted to std normal distribution\n",
    "    mean = ds.mean() \n",
    "    std = ds.std()  \n",
    "\n",
    "    values = [i for i in ds]\n",
    "\n",
    "    z_score = [((j - mean) / std) for j in values]  \n",
    "\n",
    "    sns.distplot(z_score, kde=True)\n",
    "\n",
    "    print(sum(z_score) / len(z_score))  \n"
   ]
  },
  {
   "cell_type": "code",
   "execution_count": 29,
   "id": "6a4c1af9-b159-45aa-83ca-db5c54f86646",
   "metadata": {},
   "outputs": [
    {
     "name": "stdout",
     "output_type": "stream",
     "text": [
      "-1.115386852646669e-16\n"
     ]
    },
    {
     "name": "stderr",
     "output_type": "stream",
     "text": [
      "C:\\Users\\tiruk\\AppData\\Local\\Temp\\ipykernel_20696\\1805382270.py:10: UserWarning: \n",
      "\n",
      "`distplot` is a deprecated function and will be removed in seaborn v0.14.0.\n",
      "\n",
      "Please adapt your code to use either `displot` (a figure-level function with\n",
      "similar flexibility) or `histplot` (an axes-level function for histograms).\n",
      "\n",
      "For a guide to updating your code to use the new functions, please see\n",
      "https://gist.github.com/mwaskom/de44147ed2974457ad6372750bbe5751\n",
      "\n",
      "  sns.distplot(z_score, kde=True)\n"
     ]
    },
    {
     "data": {
      "image/png": "[encoded data removed]",
      "text/plain": [
       "<Figure size 640x480 with 1 Axes>"
      ]
     },
     "metadata": {},
     "output_type": "display_data"
    }
   ],
   "source": [
    "stdNBgraph(dataset['salary'])"
   ]
  },
  {
   "cell_type": "markdown",
   "id": "9e274698-9ec0-42bc-8fb4-59476ee18c33",
   "metadata": {},
   "source": [
    " 10)What is the probability Density Function of the salary range from\n",
    " 700000 to 900000?"
   ]
  },
  {
   "cell_type": "code",
   "execution_count": 30,
   "id": "67db61be-d633-476d-9765-831c29f09601",
   "metadata": {},
   "outputs": [],
   "source": [
    "#pdf\n",
    "def get_pdf_probability(ds,startrange,endrange):\n",
    "    from matplotlib import pyplot\n",
    "    from scipy.stats import norm\n",
    "    import seaborn as sns\n",
    "    ax=sns.distplot(ds,kde=True,kde_kws={'color':'blue'},color='green')\n",
    "    pyplot.axvline(startrange,color='Red')\n",
    "    pyplot.axvline(endrange,color='Red')\n",
    "    #generate a sample\n",
    "    sample=ds\n",
    "    #calculate parameters\n",
    "    sample_mean=sample.mean()\n",
    "    sample_std=sample.std()\n",
    "    print('Mean=%.3f,Standard Deviation=%.3f' %(sample_mean,sample_std))\n",
    "    #define the distribution\n",
    "    dist=norm(sample_mean,sample_std)\n",
    "\n",
    "    #sample probabilities for a range of outcomes\n",
    "    values=[value for value in range(startrange,endrange)]\n",
    "    probabilities=[dist.pdf(value) for value in values]\n",
    "    prob=sum(probabilities)\n",
    "    print(\"The area between range({},{}):{}\".format(startrange,endrange,sum(probabilities)))\n",
    "   \n",
    "    return prob\n",
    "    \n",
    "          \n",
    "    "
   ]
  },
  {
   "cell_type": "code",
   "execution_count": null,
   "id": "adc11f63-0c56-4b3f-b4d4-b89ba54c4d21",
   "metadata": {},
   "outputs": [
    {
     "name": "stderr",
     "output_type": "stream",
     "text": [
      "C:\\Users\\tiruk\\AppData\\Local\\Temp\\ipykernel_20696\\1406800006.py:6: UserWarning: \n",
      "\n",
      "`distplot` is a deprecated function and will be removed in seaborn v0.14.0.\n",
      "\n",
      "Please adapt your code to use either `displot` (a figure-level function with\n",
      "similar flexibility) or `histplot` (an axes-level function for histograms).\n",
      "\n",
      "For a guide to updating your code to use the new functions, please see\n",
      "https://gist.github.com/mwaskom/de44147ed2974457ad6372750bbe5751\n",
      "\n",
      "  ax=sns.distplot(ds,kde=True,kde_kws={'color':'blue'},color='green')\n"
     ]
    },
    {
     "name": "stdout",
     "output_type": "stream",
     "text": [
      "Mean=197615.116,Standard Deviation=150305.844\n"
     ]
    }
   ],
   "source": [
    "get_pdf_probability(dataset[\"salary\"],700000,900000)"
   ]
  },
  {
   "cell_type": "markdown",
   "id": "e1d106f6-49ba-4ada-bf8d-74db71a43294",
   "metadata": {},
   "source": [
    " 11)Test the similarity between the degree_t(Sci&Tech)with respect to\n",
    " etest_p and mba_p at significance level of 5%.(Make decision using Hy\n",
    "pothesis Testing)"
   ]
  },
  {
   "cell_type": "code",
   "execution_count": null,
   "id": "386fe52a-6291-4256-b64a-ddec6b860b7a",
   "metadata": {},
   "outputs": [],
   "source": [
    "from scipy.stats import ttest_ind\n",
    "dataset=dataset.dropna()\n",
    "etest_p=dataset[dataset['degree_t']=='Sci&Tech']['etest_p']\n",
    "mba_p=dataset[dataset['degree_t']=='Sci&Tech']['mba_p']\n",
    "ttest_ind(etest_p,mba_p)"
   ]
  },
  {
   "cell_type": "markdown",
   "id": "485de33d-0a72-4abd-9443-de68490e676c",
   "metadata": {},
   "source": [
    " 12)Which parameter is highly correlated with salary?"
   ]
  },
  {
   "cell_type": "code",
   "execution_count": null,
   "id": "a97aaa85-f753-42fd-b1c8-c0edbebee902",
   "metadata": {},
   "outputs": [],
   "source": [
    "#using correlation"
   ]
  },
  {
   "cell_type": "code",
   "execution_count": null,
   "id": "cf02a6a6-75e7-4ac3-b5e7-3759b20d51b4",
   "metadata": {},
   "outputs": [],
   "source": [
    "numeric_data = dataset.select_dtypes(include='number')\n",
    "covariance_matrix = numeric_data.corr()\n",
    "covariance_matrix"
   ]
  },
  {
   "cell_type": "code",
   "execution_count": null,
   "id": "632518ab-2a28-4f4f-8b9d-de005805b2f5",
   "metadata": {},
   "outputs": [],
   "source": [
    "#ssc_p highly correlated with salary"
   ]
  },
  {
   "cell_type": "code",
   "execution_count": null,
   "id": "de75d889-7e6d-4de9-aae8-769b7befa1cc",
   "metadata": {},
   "outputs": [],
   "source": []
  },
  {
   "cell_type": "code",
   "execution_count": null,
   "id": "cd663479-ff09-4af9-afc1-e7ea36c949d3",
   "metadata": {},
   "outputs": [],
   "source": []
  },
  {
   "cell_type": "code",
   "execution_count": null,
   "id": "37b9f527-7b2f-43a2-89b4-dfac43c7c011",
   "metadata": {},
   "outputs": [],
   "source": []
  }
 ],
 "metadata": {
  "kernelspec": {
   "display_name": "Python 3 (ipykernel)",
   "language": "python",
   "name": "python3"
  },
  "language_info": {
   "codemirror_mode": {
    "name": "ipython",
    "version": 3
   },
   "file_extension": ".py",
   "mimetype": "text/x-python",
   "name": "python",
   "nbconvert_exporter": "python",
   "pygments_lexer": "ipython3",
   "version": "3.11.5"
  }
 },
 "nbformat": 4,
 "nbformat_minor": 5
}
