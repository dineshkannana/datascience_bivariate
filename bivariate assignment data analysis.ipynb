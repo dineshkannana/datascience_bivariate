{
 "cells": [
  {
   "cell_type": "code",
   "execution_count": null,
   "id": "921435dd-8a70-4a26-b643-6302b267c735",
   "metadata": {},
   "outputs": [],
   "source": [
    "import pandas as pd"
   ]
  },
  {
   "cell_type": "code",
   "execution_count": null,
   "id": "2ae258e6-db7b-4910-93c3-463d73cb9db8",
   "metadata": {},
   "outputs": [],
   "source": [
    "dataset=pd.read_csv(\"PrePlacement.csv\")\n",
    "dataset"
   ]
  },
  {
   "cell_type": "markdown",
   "id": "9e454495-38fd-4a02-aac2-02b88c1af973",
   "metadata": {},
   "source": [
    "# 1)Replace the NaN values with correct value. And justify why you have chosen the same."
   ]
  },
  {
   "cell_type": "code",
   "execution_count": null,
   "id": "b176a3a8-a003-4bf8-a322-d3e05ea0befa",
   "metadata": {},
   "outputs": [],
   "source": [
    "dataset.isnull().sum()"
   ]
  },
  {
   "cell_type": "markdown",
   "id": "9c6bddb1-7d35-40c7-9b58-65b17f39fcb8",
   "metadata": {},
   "source": [
    "#NO NAN VALUE FOR THE DATASET"
   ]
  },
  {
   "cell_type": "markdown",
   "id": "e3e002f5-9e7c-4cdb-9d52-da457a65a742",
   "metadata": {},
   "source": [
    "# 2)How many of them are not placed?"
   ]
  },
  {
   "cell_type": "code",
   "execution_count": null,
   "id": "a4d9227e-6c33-4dd8-885f-f4405700be19",
   "metadata": {},
   "outputs": [],
   "source": [
    "dataset['status']"
   ]
  },
  {
   "cell_type": "code",
   "execution_count": null,
   "id": "94ecc7c7-953b-4335-95e6-e5fa13664239",
   "metadata": {},
   "outputs": [],
   "source": [
    "if (dataset['status'] == \"Not Placed\").any():\n",
    "    print(\"not placed\")\n",
    "else:\n",
    "    print(\"placed\")\n"
   ]
  },
  {
   "cell_type": "code",
   "execution_count": null,
   "id": "5021fc23-7c44-489a-afba-9f7017051164",
   "metadata": {},
   "outputs": [],
   "source": [
    "not_placed_count = (dataset['status'] == \"Not Placed\").sum()\n",
    "placed_count = (dataset['status'] != \"Not Placed\").sum()\n",
    "\n",
    "print(\"Not Placed Count:\", not_placed_count)\n",
    "print(\"Placed Count:\", placed_count)"
   ]
  },
  {
   "cell_type": "markdown",
   "id": "2713ccf9-37d7-41bc-95fb-669d486631f0",
   "metadata": {},
   "source": [
    "#This method sums() True value is treated as 1 and False as 0."
   ]
  },
  {
   "cell_type": "markdown",
   "id": "6b401bbd-a14c-4d9a-8b47-abe0d5d1688a",
   "metadata": {},
   "source": [
    "#not placed student are 67"
   ]
  },
  {
   "cell_type": "markdown",
   "id": "c95b7e8a-c041-4999-9115-6a4918c93a95",
   "metadata": {},
   "source": [
    "# 3)Find the reason for non placement from the dataset?"
   ]
  },
  {
   "cell_type": "markdown",
   "id": "79b2c65e-46a8-44d6-8abc-615ba0a114b1",
   "metadata": {},
   "source": [
    "#Human errors during data collection and entry.\n",
    "#Equipment or software breakdowns causing machine errors;\n",
    "#The duration and nature of the study.\n",
    "#Data transfer and conversion."
   ]
  },
  {
   "cell_type": "code",
   "execution_count": null,
   "id": "e2038df1-fb0c-4502-bfb1-68c1d12b66fe",
   "metadata": {},
   "outputs": [],
   "source": [
    "quan=[]\n",
    "qual=[]\n",
    "for columnName in dataset.columns:\n",
    "    if(dataset[columnName].dtype=='O'):\n",
    "        qual.append(columnName)\n",
    "    else:\n",
    "        quan.append(columnName)"
   ]
  },
  {
   "cell_type": "code",
   "execution_count": null,
   "id": "3ede5d4e-f513-4770-a163-2771b1d4d761",
   "metadata": {},
   "outputs": [],
   "source": [
    "dataset[quan]"
   ]
  },
  {
   "cell_type": "code",
   "execution_count": null,
   "id": "8cb8da3b-da82-4837-9540-30421a65d757",
   "metadata": {},
   "outputs": [],
   "source": [
    "qual"
   ]
  },
  {
   "cell_type": "code",
   "execution_count": null,
   "id": "62030afa-91f9-4fe0-803b-c58c56ca80c3",
   "metadata": {},
   "outputs": [],
   "source": [
    "\n",
    "descriptive = pd.DataFrame(index=[\"Mean\", \"Median\", \"Mode\"], columns=quan)\n",
    "\n",
    "for columnName in quan:\n",
    "    descriptive.loc[\"Mean\", columnName] = dataset[columnName].mean()\n",
    "    descriptive.loc[\"Median\", columnName] = dataset[columnName].median()  # Add median calculation\n",
    "    descriptive.loc[\"Mode\", columnName] = dataset[columnName].mode().iloc[0]\n",
    "    data = {'status': dataset['status'],\n",
    "        'ssc_p':dataset['ssc_p'],\n",
    "        'hsc_p':dataset['hsc_p'],\n",
    "        'degree_p':dataset['degree_p'],\n",
    "        'etest_p':dataset['etest_p'],\n",
    "        'mba_p':dataset['mba_p'],\n",
    "        'salary':dataset['salary']}\n",
    "\n",
    "df = pd.DataFrame(data)\n",
    "df\n"
   ]
  },
  {
   "cell_type": "code",
   "execution_count": null,
   "id": "6395a7ce-31eb-4e9f-bec3-63f9bbef588f",
   "metadata": {},
   "outputs": [],
   "source": [
    "import pandas as pd\n",
    "def analyze_placement_stats(dataset, status_column, numeric_columns):\n",
    "  \n",
    "    placed_students = dataset[dataset[status_column] != \"Not Placed\"]\n",
    "    non_placed_students = dataset[dataset[status_column] == \"Not Placed\"]\n",
    "\n",
    "    # Calculate descriptive statistics for each group\n",
    "    stats = {}\n",
    "    for group_name, group_data in [(\"Placed\", placed_students), (\"Not Placed\", non_placed_students)]:\n",
    "        stats[group_name] = {}\n",
    "        for col in numeric_columns:\n",
    "            stats[group_name][col] = {\n",
    "                \"Mean\": group_data[col].mean(),\n",
    "                \"Median\": group_data[col].median(),\n",
    "                \"Mode\": group_data[col].mode().iloc[0] if not group_data[col].mode().empty else None\n",
    "            }\n",
    "\n",
    "    # Convert to DataFrame for better display\n",
    "    stats_df = pd.DataFrame(stats).T.stack().apply(pd.Series)\n",
    "   \n",
    "\n",
    "    return stats_df\n",
    "\n",
    "\n",
    "\n",
    "\n",
    "data = {'status': dataset['status'],\n",
    "        'ssc_p':dataset['ssc_p'],\n",
    "        'hsc_p':dataset['hsc_p'],\n",
    "        'degree_p':dataset['degree_p'],\n",
    "        'etest_p':dataset['etest_p'],\n",
    "        'mba_p':dataset['mba_p'],\n",
    "        'salary':dataset['salary']}\n",
    "df = pd.DataFrame(data)  # Create DataFrame with all the data\n",
    "\n",
    "numeric_columns = ['ssc_p','hsc_p','degree_p','etest_p','mba_p','salary']  # List of numeric columns\n",
    "\n",
    "result = analyze_placement_stats(df, 'status', numeric_columns)\n",
    "print(result)"
   ]
  },
  {
   "cell_type": "markdown",
   "id": "5d6fda98-59fa-40c7-8d1d-d2d340be941a",
   "metadata": {},
   "source": [
    "#Observation: Significant difference. The \"Placed\" group shows a considerably higher performance .            "
   ]
  },
  {
   "cell_type": "markdown",
   "id": "ca248c93-d844-4952-8ae5-449a160380fa",
   "metadata": {},
   "source": [
    "#the \"not placed\" group shows a considerably lower performance."
   ]
  },
  {
   "cell_type": "markdown",
   "id": "1293b441-926e-479d-a310-394803765176",
   "metadata": {},
   "source": [
    "# 4)What kind of relation between salary and mba_p"
   ]
  },
  {
   "cell_type": "markdown",
   "id": "f5e9db6e-e5c4-4868-8327-13de64aa78ed",
   "metadata": {},
   "source": [
    "#using an correlation concept"
   ]
  },
  {
   "cell_type": "code",
   "execution_count": null,
   "id": "1ba6afe8-9227-493d-9ccd-483550d874d2",
   "metadata": {},
   "outputs": [],
   "source": [
    "numeric_data = dataset.select_dtypes(include='number')\n",
    "correlation_matrix = numeric_data.corr()\n",
    "correlation_matrix"
   ]
  },
  {
   "cell_type": "markdown",
   "id": "fdc15c10-41dc-4231-a597-b4e0c385e029",
   "metadata": {},
   "source": [
    "#the relation between salary and mba_p\n"
   ]
  },
  {
   "cell_type": "markdown",
   "id": "f05204d2-86de-466d-b775-b2fd5d013bb3",
   "metadata": {},
   "source": [
    "#mba_p to salary positive correlation directly proportional relation 14%"
   ]
  },
  {
   "cell_type": "markdown",
   "id": "5fdacea9-4874-49f0-9ed5-90dc30874e07",
   "metadata": {},
   "source": [
    "# 5)Which specialization is getting maximum salary?"
   ]
  },
  {
   "cell_type": "code",
   "execution_count": null,
   "id": "8a87de24-59c8-4b23-839a-63bcae51540d",
   "metadata": {},
   "outputs": [],
   "source": [
    "dataset[[\"specialisation\",\"salary\"]]\n"
   ]
  },
  {
   "cell_type": "code",
   "execution_count": null,
   "id": "7089c116-41c4-480e-8542-9f98ed156e83",
   "metadata": {},
   "outputs": [],
   "source": [
    "import pandas as pd\n",
    "\n",
    "# Assuming your dataset is in a Pandas DataFrame called 'dataset'\n",
    "\n",
    "selected_data = dataset[[\"specialisation\", \"salary\"]]\n",
    "\n",
    "# Group by specialization and find the maximum salary for each group\n",
    "max_salaries = selected_data.groupby('specialisation')['salary'].max()\n",
    "\n",
    "# Find the specialization with the overall maximum salary\n",
    "specialization_max_salary = max_salaries.idxmax()\n",
    "max_salary_value = max_salaries.max()\n",
    "\n",
    "# Print the result\n",
    "print(f\"The specialization with the maximum salary is: {specialization_max_salary}\")\n",
    "print(f\"The maximum salary is: {max_salary_value}\")"
   ]
  },
  {
   "cell_type": "code",
   "execution_count": null,
   "id": "ad408913-d254-4eb9-af78-d83c15581f45",
   "metadata": {},
   "outputs": [],
   "source": [
    "selected_data = dataset[[\"specialisation\", \"salary\"]]\n",
    "\n",
    "# Calculate the maximum salary\n",
    "max_salary = selected_data['salary'].max()\n",
    "\n",
    "# Calculate the minimum salary\n",
    "min_salary = selected_data['salary'].min()\n",
    "\n",
    "# Calculate the average salary\n",
    "avg_salary = selected_data['salary'].mean() \n",
    "\n",
    "# Print the results\n",
    "print(\"Maximum Salary:\", max_salary)\n",
    "print(\"Minimum Salary:\", min_salary)\n",
    "print(\"Average Salary:\", avg_salary)\n",
    "\n",
    "\n",
    "\n"
   ]
  },
  {
   "cell_type": "markdown",
   "id": "326b775c-34ca-4b33-a900-fe2a1dd0f4bb",
   "metadata": {},
   "source": [
    "#geting maximum salry=706250.0"
   ]
  },
  {
   "cell_type": "markdown",
   "id": "b20e938e-2eb4-42ee-901d-24b0e2f44585",
   "metadata": {},
   "source": [
    "# 6)How many of them getting above 500000 salary?"
   ]
  },
  {
   "cell_type": "code",
   "execution_count": null,
   "id": "df909245-9a24-4bb6-8a72-4ee66a47826e",
   "metadata": {},
   "outputs": [],
   "source": [
    "#  Count how many salaries are above 500000\n",
    "above_50000_count = (selected_data['salary'] > 500000).sum()\n",
    "\n",
    "if above_50000_count > 0:\n",
    "    print(above_50000_count, \"student are getting salaries above 500000\")\n",
    "else:\n",
    "    print(\"No salaries are above 500000\")"
   ]
  },
  {
   "cell_type": "markdown",
   "id": "22a1420c-b083-4625-ab16-bd5718197f4b",
   "metadata": {},
   "source": [
    "# 7)Test the Analysis of Variance between etest_p and mba_p at signifance level 5%.(Make decision using Hypothesis Testing)"
   ]
  },
  {
   "cell_type": "code",
   "execution_count": null,
   "id": "223d0a1d-f3cc-42d6-86c6-690615c3faf2",
   "metadata": {},
   "outputs": [],
   "source": [
    "import scipy.stats as stats\n",
    "stats.f_oneway(dataset['etest_p'],dataset['mba_p'])"
   ]
  },
  {
   "cell_type": "markdown",
   "id": "0459f908-1d9d-4bfc-8683-0095fd585006",
   "metadata": {},
   "source": [
    "#Null Hypothesis (H0): There is no significant difference between the mean etest_p scores and the mean mba_p scores."
   ]
  },
  {
   "cell_type": "markdown",
   "id": "6afee8e9-be17-4d25-a814-2bc2a549daf2",
   "metadata": {},
   "source": [
    "#Alternative Hypothesis (H1): There is a significant difference between the mean etest_p scores and the mean mba_p scores."
   ]
  },
  {
   "cell_type": "markdown",
   "id": "2519f740-0fc0-4ba3-ae8a-95148fb066ff",
   "metadata": {},
   "source": [
    "#The p-value is 4.672547689133573e-21, which is extremely small (much less than 0.05). This means there is very strong evidence to reject the null hypothesis.  "
   ]
  },
  {
   "cell_type": "markdown",
   "id": "e4279d52-c036-420f-9953-969023579742",
   "metadata": {},
   "source": [
    "# 8)Test the similarity between the degree_t(Sci&Tech) and specialisation(Mkt&HR) with respect to salary at significance level of 5%.\n",
    "# (Makedecision using Hypothesis Testing)"
   ]
  },
  {
   "cell_type": "markdown",
   "id": "9fa9b7ff-31c3-4e75-9b7f-a313dc13564f",
   "metadata": {},
   "source": [
    "#using an T-test concept"
   ]
  },
  {
   "cell_type": "code",
   "execution_count": null,
   "id": "a59ad0a3-c8da-4bdc-87c5-c45d43aed40b",
   "metadata": {},
   "outputs": [],
   "source": [
    "from scipy.stats import ttest_ind\n",
    "dataset=dataset.dropna()\n",
    "sci_tech=dataset[dataset['degree_t']=='Sci&Tech']['salary']\n",
    "mkt_hr=dataset[dataset['specialisation']=='Mkt&HR']['salary']\n",
    "ttest_ind(sci_tech,mkt_hr)"
   ]
  },
  {
   "cell_type": "markdown",
   "id": "2940d4a3-551a-46b5-9a7d-f9db39eecc43",
   "metadata": {},
   "source": [
    "#Since the p-value is less than 0.05, we reject the null hypothesis."
   ]
  },
  {
   "cell_type": "markdown",
   "id": "79bd512a-58b1-4fa5-98be-1a20b580f497",
   "metadata": {},
   "source": [
    " # 9)Convert the normal distribution to standard normal distribution for salary column"
   ]
  },
  {
   "cell_type": "markdown",
   "id": "dd68333b-308d-4409-86d2-ca80a7d38248",
   "metadata": {},
   "source": [
    "#The standard normal distribution (also known as the Z-distribution) has a mean of 0 and a standard deviation of 1. "
   ]
  },
  {
   "cell_type": "markdown",
   "id": "439aa73c-fc99-43e9-afab-16a6ef8f8c0a",
   "metadata": {},
   "source": [
    "#Converting a normal distribution to a standard normal distribution involves a process called standardization or Z-score normalization."
   ]
  },
  {
   "cell_type": "code",
   "execution_count": null,
   "id": "52442f19-aaf5-49cc-ba8f-e3b865131f2d",
   "metadata": {},
   "outputs": [],
   "source": [
    "import seaborn as sns"
   ]
  },
  {
   "cell_type": "code",
   "execution_count": null,
   "id": "0a631abe-bb29-45eb-8ab4-3e658e27e962",
   "metadata": {},
   "outputs": [],
   "source": [
    "sns.distplot(dataset[\"salary\"])"
   ]
  },
  {
   "cell_type": "code",
   "execution_count": null,
   "id": "c978f00f-d971-4644-ab9d-49d1a51c90ef",
   "metadata": {},
   "outputs": [],
   "source": [
    "def stdNBgraph(ds):\n",
    "    # converted to std normal distribution\n",
    "    mean = ds.mean() \n",
    "    std = ds.std()  \n",
    "\n",
    "    values = [i for i in ds]\n",
    "\n",
    "    z_score = [((j - mean) / std) for j in values]  \n",
    "\n",
    "    sns.distplot(z_score, kde=True)\n",
    "\n",
    "    print(sum(z_score) / len(z_score))  \n"
   ]
  },
  {
   "cell_type": "code",
   "execution_count": null,
   "id": "6a4c1af9-b159-45aa-83ca-db5c54f86646",
   "metadata": {},
   "outputs": [],
   "source": [
    "stdNBgraph(dataset['salary'])"
   ]
  },
  {
   "cell_type": "markdown",
   "id": "9e274698-9ec0-42bc-8fb4-59476ee18c33",
   "metadata": {},
   "source": [
    " # 10)What is the probability Density Function of the salary range from 700000 to 900000?"
   ]
  },
  {
   "cell_type": "markdown",
   "id": "63a9838c-3634-4797-829d-bea057f8be91",
   "metadata": {},
   "source": [
    "#Instead, the PDF represents the density of probability around that point.   "
   ]
  },
  {
   "cell_type": "markdown",
   "id": "26e1c6f4-eb81-40a6-8466-b0bc659d592a",
   "metadata": {},
   "source": [
    "#We use the PDF to calculate the probability of the variable falling within a range of values.   "
   ]
  },
  {
   "cell_type": "code",
   "execution_count": null,
   "id": "67db61be-d633-476d-9765-831c29f09601",
   "metadata": {},
   "outputs": [],
   "source": [
    "#pdf\n",
    "def get_pdf_probability(ds,startrange,endrange):\n",
    "    from matplotlib import pyplot\n",
    "    from scipy.stats import norm\n",
    "    import seaborn as sns\n",
    "    ax=sns.distplot(ds,kde=True,kde_kws={'color':'blue'},color='green')\n",
    "    pyplot.axvline(startrange,color='Red')\n",
    "    pyplot.axvline(endrange,color='Red')\n",
    "    #generate a sample\n",
    "    sample=ds\n",
    "    #calculate parameters\n",
    "    sample_mean=sample.mean()\n",
    "    sample_std=sample.std()\n",
    "    print('Mean=%.3f,Standard Deviation=%.3f' %(sample_mean,sample_std))\n",
    "    #define the distribution\n",
    "    dist=norm(sample_mean,sample_std)\n",
    "\n",
    "    #sample probabilities for a range of outcomes\n",
    "    values=[value for value in range(startrange,endrange)]\n",
    "    probabilities=[dist.pdf(value) for value in values]\n",
    "    prob=sum(probabilities)\n",
    "    print(\"The area between range({},{}):{}\".format(startrange,endrange,sum(probabilities)))\n",
    "   \n",
    "    return prob\n",
    "    \n",
    "          \n",
    "    "
   ]
  },
  {
   "cell_type": "code",
   "execution_count": null,
   "id": "adc11f63-0c56-4b3f-b4d4-b89ba54c4d21",
   "metadata": {},
   "outputs": [],
   "source": [
    "get_pdf_probability(dataset[\"salary\"],700000,900000)"
   ]
  },
  {
   "cell_type": "markdown",
   "id": "e1d106f6-49ba-4ada-bf8d-74db71a43294",
   "metadata": {},
   "source": [
    " # 11)Test the similarity between the degree_t(Sci&Tech)with respect to etest_p and mba_p at significance level of 5%.(Make decision using Hypothesis Testing)"
   ]
  },
  {
   "cell_type": "code",
   "execution_count": null,
   "id": "386fe52a-6291-4256-b64a-ddec6b860b7a",
   "metadata": {},
   "outputs": [],
   "source": [
    "from scipy.stats import ttest_ind\n",
    "dataset=dataset.dropna()\n",
    "etest_p=dataset[dataset['degree_t']=='Sci&Tech']['etest_p']\n",
    "mba_p=dataset[dataset['degree_t']=='Sci&Tech']['mba_p']\n",
    "ttest_ind(etest_p,mba_p)"
   ]
  },
  {
   "cell_type": "markdown",
   "id": "c5afc41d-2e83-46c4-87cc-0446486b76c3",
   "metadata": {},
   "source": [
    "#Since the p-value is less than 0.05, we reject the null hypothesis."
   ]
  },
  {
   "cell_type": "markdown",
   "id": "485de33d-0a72-4abd-9443-de68490e676c",
   "metadata": {},
   "source": [
    " # 12)Which parameter is highly correlated with salary?"
   ]
  },
  {
   "cell_type": "code",
   "execution_count": null,
   "id": "a97aaa85-f753-42fd-b1c8-c0edbebee902",
   "metadata": {},
   "outputs": [],
   "source": [
    "#using correlation"
   ]
  },
  {
   "cell_type": "code",
   "execution_count": null,
   "id": "cf02a6a6-75e7-4ac3-b5e7-3759b20d51b4",
   "metadata": {},
   "outputs": [],
   "source": [
    "numeric_data = dataset.select_dtypes(include='number')\n",
    "covariance_matrix = numeric_data.corr()\n",
    "covariance_matrix"
   ]
  },
  {
   "cell_type": "markdown",
   "id": "c1bd6e72-4a98-4c80-8136-6588882b595f",
   "metadata": {},
   "source": [
    "#The parameter with the highest correlation with salary is ssc_p with a correlation coefficient of 0.558475."
   ]
  },
  {
   "cell_type": "code",
   "execution_count": null,
   "id": "de75d889-7e6d-4de9-aae8-769b7befa1cc",
   "metadata": {},
   "outputs": [],
   "source": []
  },
  {
   "cell_type": "code",
   "execution_count": null,
   "id": "cd663479-ff09-4af9-afc1-e7ea36c949d3",
   "metadata": {},
   "outputs": [],
   "source": []
  },
  {
   "cell_type": "code",
   "execution_count": null,
   "id": "37b9f527-7b2f-43a2-89b4-dfac43c7c011",
   "metadata": {},
   "outputs": [],
   "source": []
  }
 ],
 "metadata": {
  "kernelspec": {
   "display_name": "Python 3 (ipykernel)",
   "language": "python",
   "name": "python3"
  },
  "language_info": {
   "codemirror_mode": {
    "name": "ipython",
    "version": 3
   },
   "file_extension": ".py",
   "mimetype": "text/x-python",
   "name": "python",
   "nbconvert_exporter": "python",
   "pygments_lexer": "ipython3",
   "version": "3.11.5"
  }
 },
 "nbformat": 4,
 "nbformat_minor": 5
}
